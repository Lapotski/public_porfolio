{
 "cells": [
  {
   "cell_type": "code",
   "execution_count": 5,
   "metadata": {},
   "outputs": [
    {
     "name": "stdout",
     "output_type": "stream",
     "text": [
      "============================================================================\n",
      "Number of Positives: 3\n",
      "Sum of Positive Numbers: 8\n",
      "Number of Negatives: 2\n",
      "Sum of Positive Numbers: -6\n",
      "============================================================================\n"
     ]
    }
   ],
   "source": [
    "#Positive and Negative Count and their respective SUMS\n",
    "\n",
    "#Initialization of Variables\n",
    "nValues = 0\n",
    "nPositives = 0\n",
    "nNegatives = 0\n",
    "sumPositive = 0\n",
    "sumNegative = 0\n",
    "\n",
    "nValues = int(input('Enter the amount of values you wish to enter: '))\n",
    "\n",
    "for i in range(nValues):\n",
    "    num = int(input(\"Enter a number: \"))\n",
    "\n",
    "    if num > 0:\n",
    "        nPositives += 1\n",
    "        sumPositive += num\n",
    "    elif num < 0:\n",
    "        nNegatives += 1\n",
    "        sumNegative += num\n",
    "\n",
    "print(\"=================================================\")\n",
    "print(f'Number of Positives: {nPositives}\\nSum of Positive Numbers: {sumPositive}')\n",
    "print(f'Number of Negatives: {nNegatives}\\nSum of Negative Numbers: {sumNegative}')\n",
    "print(\"=================================================\")"
   ]
  },
  {
   "cell_type": "code",
   "execution_count": 6,
   "metadata": {},
   "outputs": [
    {
     "name": "stdout",
     "output_type": "stream",
     "text": [
      "=================================================\n",
      "Number of Evens: 3\n",
      "Average of Even Numbers: 2.00\n",
      "Number of Odds: 3\n",
      "Average of Odd Numbers: 3.00\n",
      "=================================================\n"
     ]
    }
   ],
   "source": [
    "#Odd and Even Count and their respective average\n",
    "\n",
    "#Initialization of Variables\n",
    "nValues = 0\n",
    "nEvens = 0\n",
    "nOdds = 0\n",
    "sumEven = 0\n",
    "sumOdd = 0\n",
    "avgEven = 0\n",
    "avgOdd = 0\n",
    "\n",
    "nValues = int(input('Enter the amount of values you wish to enter: '))\n",
    "\n",
    "for i in range(nValues):\n",
    "    num = int(input(\"Enter a number: \"))\n",
    "\n",
    "    if num % 2 ==0:\n",
    "        nEvens += 1\n",
    "        sumEven += num\n",
    "        avgEven = sumEven / nEvens\n",
    "    else:\n",
    "        nOdds += 1\n",
    "        sumOdd += num\n",
    "        avgOdd = sumOdd / nEvens\n",
    "\n",
    "print(\"=================================================\")\n",
    "print(f'Number of Evens: {nEvens}\\nAverage of Even Numbers: {avgEven:.2f}')\n",
    "print(f'Number of Odds: {nOdds}\\nAverage of Odd Numbers: {avgOdd:.2f}')\n",
    "print(\"=================================================\")"
   ]
  }
 ],
 "metadata": {
  "kernelspec": {
   "display_name": "Python 3",
   "language": "python",
   "name": "python3"
  },
  "language_info": {
   "codemirror_mode": {
    "name": "ipython",
    "version": 3
   },
   "file_extension": ".py",
   "mimetype": "text/x-python",
   "name": "python",
   "nbconvert_exporter": "python",
   "pygments_lexer": "ipython3",
   "version": "3.13.0"
  }
 },
 "nbformat": 4,
 "nbformat_minor": 2
}
