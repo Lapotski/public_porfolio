{
 "cells": [
  {
   "cell_type": "code",
   "execution_count": 17,
   "id": "fc41b42c",
   "metadata": {},
   "outputs": [
    {
     "name": "stdout",
     "output_type": "stream",
     "text": [
      "10\n",
      "9\n",
      "8\n",
      "7\n",
      "6\n",
      "5\n",
      "4\n",
      "3\n",
      "2\n",
      "1\n"
     ]
    }
   ],
   "source": [
    "#Countdown form 10\n",
    "\n",
    "for i in range(11,1,-1):\n",
    "    print (i-1)"
   ]
  },
  {
   "cell_type": "code",
   "execution_count": 4,
   "id": "5fd5ca7e",
   "metadata": {},
   "outputs": [
    {
     "name": "stdout",
     "output_type": "stream",
     "text": [
      "Sum of digits: 10\n"
     ]
    }
   ],
   "source": [
    "#sum of digits:\n",
    "n = int(input(\"Enter a number: \"))\n",
    "sum1  = 0\n",
    "\n",
    "for i in range(1,n+1):\n",
    "    sum1 += i\n",
    "\n",
    "print(f'Sum of digits: {sum1}')"
   ]
  },
  {
   "cell_type": "code",
   "execution_count": 5,
   "id": "04363a68",
   "metadata": {},
   "outputs": [
    {
     "name": "stdout",
     "output_type": "stream",
     "text": [
      "Multiplication Table of 2\n",
      "\n",
      "1\t2\t\n",
      "2\t4\t\n"
     ]
    }
   ],
   "source": [
    "# Multiplication Table\n",
    "\n",
    "n = int(input('Enter a number: '))\n",
    "row = 1\n",
    "column = 1\n",
    "\n",
    "print(f'Multiplication Table of {n}\\n')\n",
    "\n",
    "for row in range(1,n+1):\n",
    "    for j in range(1,n+1):\n",
    "        multiply = column * j\n",
    "        print (multiply, end=\"\\t\")\n",
    "    print()\n",
    "    column +=1\n",
    "    "
   ]
  },
  {
   "cell_type": "code",
   "execution_count": 6,
   "id": "f6fe5bc2",
   "metadata": {},
   "outputs": [
    {
     "name": "stdout",
     "output_type": "stream",
     "text": [
      "*\n",
      "**\n",
      "***\n"
     ]
    }
   ],
   "source": [
    "#star pattern\n",
    "\n",
    "n = int(input('Enter the amount of rows: '))\n",
    "\n",
    "for i in range(1,n+1):\n",
    "    for j in range(1,i+1):\n",
    "        print (\"*\",end=\"\")\n",
    "    print()"
   ]
  },
  {
   "cell_type": "code",
   "execution_count": 7,
   "id": "766d32dd",
   "metadata": {},
   "outputs": [
    {
     "name": "stdout",
     "output_type": "stream",
     "text": [
      "1\n",
      "2\n",
      "3\n",
      "4\n",
      "5\n",
      "6\n",
      "7\n",
      "8\n",
      "9\n",
      "10\n",
      "11\n",
      "12\n",
      "13\n",
      "14\n",
      "15\n"
     ]
    }
   ],
   "source": [
    "#break on 15\n",
    "\n",
    "for i in range(1,20+1):\n",
    "    print(i)\n",
    "    if i == 15:\n",
    "        break\n",
    "            "
   ]
  },
  {
   "cell_type": "code",
   "execution_count": 15,
   "id": "cedfb68e",
   "metadata": {},
   "outputs": [
    {
     "name": "stdout",
     "output_type": "stream",
     "text": [
      "1\n",
      "2\n"
     ]
    }
   ],
   "source": [
    "#break on even number\n",
    "\n",
    "for i in range(1,10+1):\n",
    "    print (i)\n",
    "    if i % 2 == 0:\n",
    "        break"
   ]
  },
  {
   "cell_type": "code",
   "execution_count": 9,
   "id": "e099e6c4",
   "metadata": {},
   "outputs": [
    {
     "name": "stdout",
     "output_type": "stream",
     "text": [
      "0\n",
      "2\n",
      "4\n",
      "6\n",
      "8\n"
     ]
    }
   ],
   "source": [
    "#skip odd\n",
    "\n",
    "for i in range(0,9+1):\n",
    "    if i % 2 != 0:\n",
    "        continue\n",
    "    else:\n",
    "        print(i)"
   ]
  },
  {
   "cell_type": "code",
   "execution_count": 10,
   "id": "94f85e41",
   "metadata": {},
   "outputs": [
    {
     "name": "stdout",
     "output_type": "stream",
     "text": [
      "1\n",
      "2\n",
      "3\n",
      "4\n",
      "6\n",
      "7\n",
      "8\n",
      "9\n",
      "10\n"
     ]
    }
   ],
   "source": [
    "#skip 5\n",
    "\n",
    "for i in range(1,10+1):\n",
    "    if i == 5:\n",
    "        continue\n",
    "    else:\n",
    "        print(i)"
   ]
  },
  {
   "cell_type": "code",
   "execution_count": 14,
   "id": "697a641c",
   "metadata": {},
   "outputs": [
    {
     "name": "stdout",
     "output_type": "stream",
     "text": [
      "(1,1)\t(1,2)\t\n",
      "(2,1)\t(2,2)\t\n"
     ]
    }
   ],
   "source": [
    "#columns\n",
    "\n",
    "row = int(input('Enter amount of rows: '))\n",
    "columns = int(input('Enter amount of columns: '))\n",
    "\n",
    "for i in range(1,row+1):\n",
    "    for j in range(1,columns+1):\n",
    "        print (f'({i},{j})', end=\"\\t\")\n",
    "    \n",
    "    print()   "
   ]
  },
  {
   "cell_type": "code",
   "execution_count": 19,
   "id": "87a7d930",
   "metadata": {},
   "outputs": [
    {
     "name": "stdout",
     "output_type": "stream",
     "text": [
      "2\n",
      "3\n",
      "5\n",
      "7\n",
      "11\n",
      "13\n",
      "17\n",
      "19\n"
     ]
    }
   ],
   "source": [
    "#prime numbers\n",
    "\n",
    "n = int(input('Enter an integer: '))\n",
    "\n",
    "for i in range(2,n+1):\n",
    "    for j in range(2,i):\n",
    "        if i % j == 0:\n",
    "            break\n",
    "    else:\n",
    "        print(i)"
   ]
  }
 ],
 "metadata": {
  "kernelspec": {
   "display_name": "Python 3",
   "language": "python",
   "name": "python3"
  },
  "language_info": {
   "codemirror_mode": {
    "name": "ipython",
    "version": 3
   },
   "file_extension": ".py",
   "mimetype": "text/x-python",
   "name": "python",
   "nbconvert_exporter": "python",
   "pygments_lexer": "ipython3",
   "version": "3.12.7"
  }
 },
 "nbformat": 4,
 "nbformat_minor": 5
}
